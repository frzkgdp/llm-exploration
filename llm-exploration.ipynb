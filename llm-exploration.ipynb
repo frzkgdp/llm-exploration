{
 "cells": [
  {
   "cell_type": "code",
   "execution_count": 1,
   "id": "6cc6e523-fdb6-4fd4-bc80-8571f0b343df",
   "metadata": {},
   "outputs": [
    {
     "name": "stdout",
     "output_type": "stream",
     "text": [
      "\n",
      "\u001b[1m[\u001b[0m\u001b[34;49mnotice\u001b[0m\u001b[1;39;49m]\u001b[0m\u001b[39;49m A new release of pip is available: \u001b[0m\u001b[31;49m24.2\u001b[0m\u001b[39;49m -> \u001b[0m\u001b[32;49m24.3.1\u001b[0m\n",
      "\u001b[1m[\u001b[0m\u001b[34;49mnotice\u001b[0m\u001b[1;39;49m]\u001b[0m\u001b[39;49m To update, run: \u001b[0m\u001b[32;49m/usr/local/Cellar/jupyterlab/4.2.5_1/libexec/bin/python -m pip install --upgrade pip\u001b[0m\n",
      "Note: you may need to restart the kernel to use updated packages.\n"
     ]
    }
   ],
   "source": [
    "pip install langchain-core langgraph>0.2.27"
   ]
  },
  {
   "cell_type": "code",
   "execution_count": 2,
   "id": "05ea10b3-cbfd-4038-9d3b-261e171bbacf",
   "metadata": {},
   "outputs": [
    {
     "name": "stdin",
     "output_type": "stream",
     "text": [
      " ········\n"
     ]
    }
   ],
   "source": [
    "import getpass\n",
    "import os\n",
    "\n",
    "os.environ[\"LANGCHAIN_TRACING_V2\"] = \"true\"\n",
    "os.environ[\"LANGCHAIN_API_KEY\"] = getpass.getpass()"
   ]
  },
  {
   "cell_type": "code",
   "execution_count": 3,
   "id": "a820d78e-f695-46ed-99fc-40908244326d",
   "metadata": {},
   "outputs": [
    {
     "name": "stdout",
     "output_type": "stream",
     "text": [
      "\n",
      "\u001b[1m[\u001b[0m\u001b[34;49mnotice\u001b[0m\u001b[1;39;49m]\u001b[0m\u001b[39;49m A new release of pip is available: \u001b[0m\u001b[31;49m24.2\u001b[0m\u001b[39;49m -> \u001b[0m\u001b[32;49m24.3.1\u001b[0m\n",
      "\u001b[1m[\u001b[0m\u001b[34;49mnotice\u001b[0m\u001b[1;39;49m]\u001b[0m\u001b[39;49m To update, run: \u001b[0m\u001b[32;49m/usr/local/Cellar/jupyterlab/4.2.5_1/libexec/bin/python -m pip install --upgrade pip\u001b[0m\n",
      "Note: you may need to restart the kernel to use updated packages.\n"
     ]
    }
   ],
   "source": [
    "pip install -qU langchain-openai"
   ]
  },
  {
   "cell_type": "code",
   "execution_count": 4,
   "id": "f6c6d397-ca65-4de2-b6d6-a39a2b6bcdd1",
   "metadata": {},
   "outputs": [
    {
     "name": "stdin",
     "output_type": "stream",
     "text": [
      " ········\n"
     ]
    }
   ],
   "source": [
    "import getpass\n",
    "import os\n",
    "\n",
    "os.environ[\"OPENAI_API_KEY\"] = getpass.getpass()\n",
    "\n",
    "from langchain_openai import ChatOpenAI\n",
    "\n",
    "model = ChatOpenAI(model=\"gpt-4o-mini\")"
   ]
  },
  {
   "cell_type": "code",
   "execution_count": 14,
   "id": "225646f2-4cf5-4d63-8c86-582cf692dc03",
   "metadata": {},
   "outputs": [
    {
     "data": {
      "text/plain": [
       "'- **Current Team:** Retired (Formerly played for the Dallas Cowboys)\\n- **Nationality:** American\\n- **Lifetime Achievements:**\\n  - 4× Pro Bowl selection (2006, 2007, 2009, 2010)\\n  - NFL passer rating leader (2014)\\n  - Dallas Cowboys all-time passing leader in yards and touchdowns\\n  - Named to the NFL All-Pro Team\\n  - Inducted into the Dallas Cowboys Ring of Honor in 2019\\n- **Stats of Latest Season:** \\n  - **Season Year:** 2016\\n  - Games Played: 5\\n  - Passing Yards: 1,570\\n  - Touchdowns: 7 \\n  - Interceptions: 3\\n  - Completion Percentage: 71.9%'"
      ]
     },
     "execution_count": 14,
     "metadata": {},
     "output_type": "execute_result"
    }
   ],
   "source": [
    "from langchain_core.messages import HumanMessage, SystemMessage\n",
    "from langchain_core.output_parsers import StrOutputParser\n",
    "\n",
    "parser = StrOutputParser()\n",
    "\n",
    "athleteName = \"Tony Romo\"\n",
    "\n",
    "athleteNameMessages = [\n",
    "    SystemMessage(content=\"Given the athlete name, response only with the kind of sport the athlete is known for, \" +\n",
    "                  \"if the athlete plays other than Football, Basketball, American Football, \" +\n",
    "                  \"response with 'Not supported'\"),\n",
    "    HumanMessage(content=athleteName),\n",
    "]\n",
    "\n",
    "sportFieldResult = model.invoke(athleteNameMessages)\n",
    "parsedSportFieldResult = parser.invoke(sportFieldResult)\n",
    "\n",
    "statMessages = [\n",
    "    SystemMessage(content=\"Given <athlete_name, sport_field>, Response with the current or latest team, nationality, lifetime achievements, stats of latest season (mention the season year), \" +\n",
    "                 \"response in bulleted list format\"),\n",
    "    HumanMessage(content=athleteName + \", \" + parsedSportFieldResult),\n",
    "]\n",
    "\n",
    "statResult = model.invoke(statMessages)\n",
    "parser.invoke(statResult)"
   ]
  },
  {
   "cell_type": "code",
   "execution_count": null,
   "id": "8286da01-a8a9-48d5-bf57-a6cbc4801382",
   "metadata": {},
   "outputs": [],
   "source": []
  }
 ],
 "metadata": {
  "kernelspec": {
   "display_name": "Python 3 (ipykernel)",
   "language": "python",
   "name": "python3"
  },
  "language_info": {
   "codemirror_mode": {
    "name": "ipython",
    "version": 3
   },
   "file_extension": ".py",
   "mimetype": "text/x-python",
   "name": "python",
   "nbconvert_exporter": "python",
   "pygments_lexer": "ipython3",
   "version": "3.12.7"
  }
 },
 "nbformat": 4,
 "nbformat_minor": 5
}
